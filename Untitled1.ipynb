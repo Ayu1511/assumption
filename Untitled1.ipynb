{
 "cells": [
  {
   "cell_type": "code",
   "execution_count": 12,
   "metadata": {
    "scrolled": true
   },
   "outputs": [
    {
     "name": "stdout",
     "output_type": "stream",
     "text": [
      "Actual data\n",
      "[['7', '81'], ['7', '87'], ['1', '83'], ['1', '80'], ['1', '66'], ['7', '54'], ['5', '85'], ['6', '94'], ['7', '74'], ['5', '83'], ['1', '96'], ['5', '81'], ['5', '94'], ['2', '94'], ['2', '85'], ['4', '65'], ['3', '63'], ['1', '96'], ['3', '58'], ['6', '75'], ['1', '68'], ['7', '56'], ['7', '94'], ['1', '62'], ['2', '82'], ['3', '88'], ['6', '96'], ['6', '81'], ['4', '76'], ['4', '98'], ['3', '94'], ['4', '67'], ['7', '84'], ['5', '54'], ['4', '89'], ['7', '79'], ['5', '51'], ['3', '63'], ['5', '59'], ['6', '50'], ['4', '78'], ['5', '59'], ['5', '85'], ['1', '88'], ['2', '78'], ['2', '86'], ['3', '55'], ['4', '78'], ['6', '59'], ['7', '78'], ['3', '55'], ['4', '96'], ['4', '96'], ['1', '79'], ['1', '57'], ['3', '85'], ['6', '76'], ['4', '52'], ['5', '77'], ['2', '65'], ['3', '87'], ['1', '57'], ['5', '90'], ['6', '83'], ['4', '65'], ['5', '81'], ['1', '96'], ['4', '74'], ['5', '64'], ['1', '73'], ['7', '57'], ['1', '88'], ['1', '80'], ['5', '89'], ['7', '68'], ['5', '90'], ['1', '84'], ['5', '89'], ['5', '57'], ['5', '81'], ['4', '62'], ['1', '99'], ['3', '75'], ['6', '69'], ['2', '79'], ['4', '99'], ['3', '90'], ['6', '86'], ['5', '77'], ['6', '82'], ['5', '72'], ['7', '77'], ['2', '53'], ['1', '64'], ['5', '73'], ['3', '91'], ['3', '89'], ['2', '95'], ['7', '74'], ['2', '88'], ['3', '83'], ['2', '52'], ['5', '50'], ['3', '58'], ['1', '69'], ['7', '53'], ['2', '89'], ['4', '91'], ['3', '61'], ['4', '50'], ['6', '89'], ['4', '93'], ['1', '78'], ['6', '75'], ['2', '61'], ['6', '86'], ['3', '90'], ['4', '98'], ['1', '73'], ['4', '58'], ['3', '51'], ['7', '76'], ['3', '76'], ['5', '99'], ['1', '62'], ['3', '86'], ['4', '93'], ['7', '73'], ['1', '84'], ['2', '57'], ['7', '86'], ['4', '81'], ['3', '71'], ['1', '90'], ['1', '91'], ['4', '53'], ['2', '78'], ['1', '69'], ['2', '71'], ['3', '93'], ['3', '82'], ['7', '67'], ['6', '86'], ['5', '59'], ['5', '87'], ['1', '71'], ['7', '83'], ['1', '65'], ['1', '75'], ['1', '56'], ['6', '69'], ['3', '70'], ['2', '79'], ['2', '56'], ['3', '99'], ['1', '92'], ['7', '78'], ['4', '52'], ['7', '79'], ['7', '98'], ['6', '87'], ['2', '79'], ['2', '81'], ['5', '64'], ['7', '93'], ['2', '74'], ['4', '52'], ['2', '53'], ['4', '75'], ['4', '99'], ['1', '53'], ['7', '59'], ['7', '60'], ['6', '50'], ['3', '67'], ['5', '77'], ['1', '88'], ['6', '96'], ['3', '90'], ['1', '60'], ['5', '50'], ['7', '77'], ['7', '84'], ['5', '70'], ['3', '67'], ['2', '68'], ['7', '88'], ['7', '75'], ['6', '88'], ['3', '95'], ['1', '50'], ['7', '86'], ['6', '94'], ['6', '92'], ['4', '97'], ['6', '67'], ['2', '68'], ['5', '71'], ['7', '53'], ['3', '99']]\n",
      "The mean of each weekday\n",
      "[75.48571428571428, 73.79166666666667, 77.7, 77.29629629629629, 73.93333333333334, 79.56521739130434, 75.19354838709677]\n"
     ]
    },
    {
     "data": {
      "image/png": "[encoded data removed]",
      "text/plain": [
       "<Figure size 432x288 with 1 Axes>"
      ]
     },
     "metadata": {},
     "output_type": "display_data"
    }
   ],
   "source": [
    "import csv\n",
    "import numpy as np\n",
    "from sklearn.svm import SVR\n",
    "import matplotlib.pyplot as plt\n",
    "\n",
    "day=[1,2,3,4,5,6,7]\n",
    "accidents = []\n",
    "means = []\n",
    "li =[]\n",
    "\n",
    "def get_data(filename):\n",
    "    with open(filename,'r') as csvfile:\n",
    "        reader = csv.reader(csvfile)\n",
    "        next(reader)\n",
    "        \n",
    "        i=1\n",
    "        j=1\n",
    "        for row in reader:\n",
    "            li.append(row)\n",
    "        print('Actual data')\n",
    "        print(li)\n",
    "        li.sort()\n",
    "        for j in (1,2,3,4,5,6,7):\n",
    "            for x in li:\n",
    "                if(int(x[0]) == j):           \n",
    "                    accidents.append(int(x[1]))\n",
    "                i = i+1\n",
    "            means.append(np.mean(accidents))\n",
    "            del accidents[:]\n",
    "        \n",
    "                    \n",
    "    return\n",
    "def predict_acci(day, accidents, x):\n",
    "    #day = np.reshape(day, (len(day), 1))\n",
    "    #accidents = np.reshape(accidents,(len(accidents), 1))\n",
    "    #print(day)\n",
    "    print('The mean of each weekday')\n",
    "    print(means)\n",
    "    \n",
    "    plt.plot(day, means, 'o-')\n",
    "    plt.xlabel('Weekdays')\n",
    "    plt.ylabel('No. of accidents')\n",
    "    plt.title('Rate of Accidents according to weekday')\n",
    "    plt.show()\n",
    "\n",
    "\n",
    "get_data('ddb.csv')\n",
    "predicted_accidents = predict_acci(day, accidents, 1)\n",
    "\n",
    "    "
   ]
  },
  {
   "cell_type": "code",
   "execution_count": null,
   "metadata": {},
   "outputs": [],
   "source": []
  },
  {
   "cell_type": "code",
   "execution_count": null,
   "metadata": {},
   "outputs": [],
   "source": []
  },
  {
   "cell_type": "code",
   "execution_count": null,
   "metadata": {},
   "outputs": [],
   "source": []
  },
  {
   "cell_type": "code",
   "execution_count": null,
   "metadata": {},
   "outputs": [],
   "source": []
  },
  {
   "cell_type": "code",
   "execution_count": null,
   "metadata": {},
   "outputs": [],
   "source": []
  },
  {
   "cell_type": "code",
   "execution_count": null,
   "metadata": {},
   "outputs": [],
   "source": []
  },
  {
   "cell_type": "code",
   "execution_count": null,
   "metadata": {},
   "outputs": [],
   "source": []
  },
  {
   "cell_type": "code",
   "execution_count": null,
   "metadata": {},
   "outputs": [],
   "source": []
  },
  {
   "cell_type": "code",
   "execution_count": null,
   "metadata": {},
   "outputs": [],
   "source": []
  }
 ],
 "metadata": {
  "kernelspec": {
   "display_name": "Python 3",
   "language": "python",
   "name": "python3"
  },
  "language_info": {
   "codemirror_mode": {
    "name": "ipython",
    "version": 3
   },
   "file_extension": ".py",
   "mimetype": "text/x-python",
   "name": "python",
   "nbconvert_exporter": "python",
   "pygments_lexer": "ipython3",
   "version": "3.6.3"
  }
 },
 "nbformat": 4,
 "nbformat_minor": 2
}
